{
 "cells": [
  {
   "cell_type": "code",
   "execution_count": 52,
   "id": "strange-savannah",
   "metadata": {},
   "outputs": [],
   "source": [
    "from datetime import datetime\n",
    "import requests\n",
    "import pandas as pd\n",
    "import streamlit as st\n",
    "import plotly.express as px\n"
   ]
  },
  {
   "cell_type": "code",
   "execution_count": 53,
   "id": "patent-advisory",
   "metadata": {},
   "outputs": [],
   "source": [
    "st.write(\"\"\"\n",
    "## Buscador de precios\n",
    "\"\"\")"
   ]
  },
  {
   "cell_type": "code",
   "execution_count": 54,
   "id": "organizational-moral",
   "metadata": {},
   "outputs": [],
   "source": [
    "keywords_input = st.text_input(\"Búsqueda\", \"Ingrese una búsqueda\")"
   ]
  },
  {
   "cell_type": "code",
   "execution_count": 55,
   "id": "cubic-publisher",
   "metadata": {},
   "outputs": [],
   "source": [
    "url_dict = \"https://api.mercadolibre.com/sites/MLA/\"\n",
    "response = requests.get(url_dict)\n",
    "results_dict=pd.DataFrame(response.json()['categories'])\n",
    "results_dict.rename(columns={'id':'category_id','name':'category_name'},inplace=True)"
   ]
  },
  {
   "cell_type": "code",
   "execution_count": 60,
   "id": "starting-checkout",
   "metadata": {},
   "outputs": [],
   "source": [
    "def chart(keywords_input):\n",
    "    keywords_input= keywords_input[0].upper()+keywords_input[1:].lower()\n",
    "    keywords = keywords_input.replace(\" \",\"+\")\n",
    "    url = \"https://api.mercadolibre.com/sites/MLA/search?q=\"+keywords+\"&condition=new&limit=50\" \n",
    "    response = requests.get(url)\n",
    "    results_1=pd.DataFrame(response.json()[\"results\"])\n",
    "    categories = results_1['category_id'].value_counts()[results_1['category_id'].value_counts()>5].index\n",
    "    \n",
    "    url_cat = url+\"&category=\"+categories[0]  \n",
    "    response = requests.get(url_cat)\n",
    "    base_final=pd.DataFrame(response.json()[\"results\"])\n",
    "    \n",
    "    if len(categories)>1:\n",
    "        for cat in categories[1:]:\n",
    "            url_cat = url+\"&category=\"+cat\n",
    "            response = requests.get(url_cat)\n",
    "            results_cat=pd.DataFrame(response.json()[\"results\"])\n",
    "            base_final=base_final.append(results_cat)\n",
    "    \n",
    "    base_final.reset_index(drop=True,inplace=True)\n",
    "    base_final=base_final.merge(results_dict,on='category_id',how='left')\n",
    "    \n",
    "    fig = px.histogram(base_final['price'],base_final['category_name'],histnorm=\"percent\",nbins=20)# y=\"tip\", color=\"sex\", marginal=\"rug\",hover_data=df.columns\n",
    "    fig.layout.update(showlegend=True, \n",
    "                      legend = {\"title\":{'text':\"\"}},\n",
    "                      yaxis =  {\"title\": {\"text\": \"Densidad\"}},\n",
    "                      xaxis =  {\"title\": {\"text\": \"Precio\"}},\n",
    "                      title={'text': keywords_input,\n",
    "                        'x':0.5,\n",
    "                        'xanchor': 'center',\n",
    "                        'yanchor': 'top'}\n",
    "                     ) \n",
    "    st.plotly_chart(fig)\n",
    "    return base_final"
   ]
  },
  {
   "cell_type": "code",
   "execution_count": 65,
   "id": "incident-registration",
   "metadata": {},
   "outputs": [],
   "source": [
    "if keywords_input!=\"Ingrese una búsqueda\":\n",
    "    chart(keywords_input)\n",
    "else:\n",
    "    chart(\"Televisor 40 pulgadas\")"
   ]
  },
  {
   "cell_type": "code",
   "execution_count": 17,
   "id": "innovative-cancer",
   "metadata": {},
   "outputs": [
    {
     "name": "stderr",
     "output_type": "stream",
     "text": [
      "[NbConvertApp] Converting notebook masterMeli.ipynb to script\n",
      "[NbConvertApp] Writing 1433 bytes to masterMeli.py\n"
     ]
    }
   ],
   "source": [
    "! jupyter nbconvert --to script masterMeli.ipynb"
   ]
  },
  {
   "cell_type": "code",
   "execution_count": null,
   "id": "enhanced-printer",
   "metadata": {},
   "outputs": [],
   "source": []
  }
 ],
 "metadata": {
  "kernelspec": {
   "display_name": "Python 3",
   "language": "python",
   "name": "python3"
  },
  "language_info": {
   "codemirror_mode": {
    "name": "ipython",
    "version": 3
   },
   "file_extension": ".py",
   "mimetype": "text/x-python",
   "name": "python",
   "nbconvert_exporter": "python",
   "pygments_lexer": "ipython3",
   "version": "3.8.8"
  }
 },
 "nbformat": 4,
 "nbformat_minor": 5
}
