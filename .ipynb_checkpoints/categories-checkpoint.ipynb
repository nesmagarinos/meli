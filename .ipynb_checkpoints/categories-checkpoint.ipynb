{
 "cells": [
  {
   "cell_type": "code",
   "execution_count": null,
   "id": "moderate-duplicate",
   "metadata": {},
   "outputs": [],
   "source": [
    "import requests\n",
    "import pandas as pd"
   ]
  },
  {
   "cell_type": "code",
   "execution_count": null,
   "id": "lyric-target",
   "metadata": {},
   "outputs": [],
   "source": [
    "response = requests.get(\"https://api.mercadolibre.com/sites/MLA/\")\n",
    "categories_dict_1=pd.DataFrame(response.json()['categories'])\n",
    "categories_dict_1.rename(columns={'id':'category_id','name':'category_name'},inplace=True)"
   ]
  },
  {
   "cell_type": "code",
   "execution_count": null,
   "id": "constitutional-zoning",
   "metadata": {},
   "outputs": [],
   "source": [
    "categories_dict_2= pd.DataFrame()\n",
    "for x in categories_dict_1.index:\n",
    "    cat_id=categories_dict_1['category_id'][x]\n",
    "    response = requests.get(\"https://api.mercadolibre.com/categories/\"+cat_id)\n",
    "    new_input=pd.DataFrame(response.json()['children_categories'])\n",
    "    new_input.rename(columns={'id':'category_id','name':'category_name'},inplace=True)\n",
    "    categories_dict_2=categories_dict_2.append(new_input)\n",
    "    \n",
    "categories_dict_2.drop_duplicates(subset=['category_id'],inplace=True)\n",
    "categories_dict_2.reset_index(inplace=True,drop=True)"
   ]
  },
  {
   "cell_type": "code",
   "execution_count": null,
   "id": "imposed-parameter",
   "metadata": {},
   "outputs": [],
   "source": [
    "categories_dict_3= pd.DataFrame()\n",
    "\n",
    "for x in categories_dict_2.index:\n",
    "    cat_id=categories_dict_2['category_id'][x]\n",
    "    response = requests.get(\"https://api.mercadolibre.com/categories/\"+cat_id)\n",
    "    new_input=pd.DataFrame(response.json()['children_categories'])\n",
    "    new_input.rename(columns={'id':'category_id','name':'category_name'},inplace=True)\n",
    "    categories_dict_3=categories_dict_3.append(new_input)\n",
    "\n",
    "categories_dict_3.drop_duplicates(subset=['category_id'],inplace=True)\n",
    "categories_dict_3.reset_index(inplace=True,drop=True)"
   ]
  },
  {
   "cell_type": "code",
   "execution_count": null,
   "id": "external-lesson",
   "metadata": {},
   "outputs": [],
   "source": [
    "categories_dict_4= pd.DataFrame()\n",
    "\n",
    "for x in categories_dict_3.index:\n",
    "    cat_id=categories_dict_3['category_id'][x]\n",
    "    response = requests.get(\"https://api.mercadolibre.com/categories/\"+cat_id)\n",
    "    new_input=pd.DataFrame(response.json()['children_categories'])\n",
    "    new_input.rename(columns={'id':'category_id','name':'category_name'},inplace=True)\n",
    "    categories_dict_4=categories_dict_4.append(new_input)\n",
    "\n",
    "categories_dict_4.drop_duplicates(subset=['category_id'],inplace=True)\n",
    "categories_dict_4.reset_index(inplace=True,drop=True)"
   ]
  },
  {
   "cell_type": "code",
   "execution_count": null,
   "id": "incoming-clearing",
   "metadata": {},
   "outputs": [],
   "source": [
    "categories_dict_5= pd.DataFrame()\n",
    "\n",
    "for x in categories_dict_4.index:\n",
    "    cat_id=categories_dict_4['category_id'][x]\n",
    "    response = requests.get(\"https://api.mercadolibre.com/categories/\"+cat_id)\n",
    "    new_input=pd.DataFrame(response.json()['children_categories'])\n",
    "    new_input.rename(columns={'id':'category_id','name':'category_name'},inplace=True)\n",
    "    categories_dict_5=categories_dict_5.append(new_input)\n",
    "\n",
    "categories_dict_5.drop_duplicates(subset=['category_id'],inplace=True)\n",
    "categories_dict_5.reset_index(inplace=True,drop=True)"
   ]
  },
  {
   "cell_type": "code",
   "execution_count": null,
   "id": "absolute-experiment",
   "metadata": {},
   "outputs": [],
   "source": [
    "categories_dict_final = categories_dict_1.append([categories_dict_2,categories_dict_3,categories_dict_4,categories_dict_5])\n",
    "categories_dict_final.drop(columns='total_items_in_this_category',inplace=True)"
   ]
  },
  {
   "cell_type": "code",
   "execution_count": null,
   "id": "nervous-waterproof",
   "metadata": {},
   "outputs": [],
   "source": [
    "categories_dict_final.to_csv(\"categories.csv\",index=False)"
   ]
  }
 ],
 "metadata": {
  "kernelspec": {
   "display_name": "Python 3",
   "language": "python",
   "name": "python3"
  },
  "language_info": {
   "codemirror_mode": {
    "name": "ipython",
    "version": 3
   },
   "file_extension": ".py",
   "mimetype": "text/x-python",
   "name": "python",
   "nbconvert_exporter": "python",
   "pygments_lexer": "ipython3",
   "version": "3.8.8"
  }
 },
 "nbformat": 4,
 "nbformat_minor": 5
}
