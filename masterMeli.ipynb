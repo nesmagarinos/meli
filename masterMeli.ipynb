{
 "cells": [
  {
   "cell_type": "code",
   "execution_count": 14,
   "id": "about-mentor",
   "metadata": {},
   "outputs": [],
   "source": [
    "import streamlit as st\n",
    "import requests\n",
    "import pandas as pd\n",
    "import plotly.express as px\n",
    "import unidecode\n",
    "import locale"
   ]
  },
  {
   "cell_type": "code",
   "execution_count": 2,
   "id": "grand-dodge",
   "metadata": {},
   "outputs": [
    {
     "name": "stderr",
     "output_type": "stream",
     "text": [
      "2021-05-27 00:59:59.937 WARNING root: \n",
      "  \u001b[33m\u001b[1mWarning:\u001b[0m to view this Streamlit app on a browser, run it with the following\n",
      "  command:\n",
      "\n",
      "    streamlit run C:\\Users\\nesma\\anaconda3\\envs\\dhdsblend2021\\lib\\site-packages\\ipykernel_launcher.py [ARGUMENTS]\n"
     ]
    }
   ],
   "source": [
    "st.write(\"\"\"\n",
    "## Buscador de precios\n",
    "\"\"\")"
   ]
  },
  {
   "cell_type": "code",
   "execution_count": 5,
   "id": "modified-excerpt",
   "metadata": {},
   "outputs": [
    {
     "data": {
      "text/plain": [
       "'Spanish_Argentina.1252'"
      ]
     },
     "execution_count": 5,
     "metadata": {},
     "output_type": "execute_result"
    }
   ],
   "source": [
    "keywords_input = st.text_input(\"Búsqueda\", \"Ingrese una búsqueda\")\n",
    "locale.setlocale(locale.LC_ALL, 'Spanish_Argentina.1252' )"
   ]
  },
  {
   "cell_type": "code",
   "execution_count": 9,
   "id": "popular-wisconsin",
   "metadata": {},
   "outputs": [],
   "source": [
    "categories_dict_final = pd.read_csv(\"categories.csv\")"
   ]
  },
  {
   "cell_type": "code",
   "execution_count": 59,
   "id": "liberal-tennessee",
   "metadata": {},
   "outputs": [],
   "source": [
    "def _base(keywords_input):\n",
    "    keywords_input= keywords_input[0].upper()+keywords_input[1:].lower()\n",
    "    keywords = unidecode.unidecode(keywords_input).replace(\" \",\"+\")\n",
    "    url = \"https://api.mercadolibre.com/sites/MLA/search?q=\"+keywords+\"&limit=50&currencies=AR\" \n",
    "    response = requests.get(url)\n",
    "    results_1=pd.DataFrame(response.json()[\"results\"])\n",
    "    \n",
    "    categories = results_1['category_id'].value_counts()[results_1['category_id'].value_counts()>1].index\n",
    "    \n",
    "    base_final = pd.DataFrame()\n",
    "    for cat in categories: \n",
    "#     for cat in [categories[0]]:\n",
    "        try:\n",
    "            url_cat = url+\"&category=\"+cat\n",
    "            response = requests.get(url_cat)\n",
    "            results_cat=pd.DataFrame(response.json()[\"results\"])\n",
    "            results_cat = results_cat[results_cat['sold_quantity']>0]\n",
    "            base_final=base_final.append(results_cat)\n",
    "        except:\n",
    "            pass\n",
    "    \n",
    "    base_final['condition']=base_final['condition'].replace({'new':'Nuevo','used':'Usado'})\n",
    "    base_final.reset_index(drop=True,inplace=True)\n",
    "    base_final=base_final.merge(categories_dict_final,on='category_id',how='left')\n",
    "    base_final=base_final[['id','price','category_name','sold_quantity','condition']]\n",
    "\n",
    "    base_final.dropna(inplace=True)\n",
    "    base_final.drop_duplicates(inplace=True)\n",
    "    base_final['keywords_input']=keywords_input\n",
    "    return base_final"
   ]
  },
  {
   "cell_type": "code",
   "execution_count": 71,
   "id": "sapphire-madrid",
   "metadata": {},
   "outputs": [],
   "source": [
    "def _chart(base):\n",
    "    base_final = base.copy()\n",
    "    keywords_input = base_final['keywords_input'].unique()[0]\n",
    "    \n",
    "    categories = base_final['category_name'].unique()\n",
    "    ncharts = base_final['category_name'].nunique()\n",
    "    nbins = 20 if ncharts==1 else ncharts*15\n",
    "\n",
    "    base_final['pct']=base_final.groupby('category_name')['sold_quantity'].apply(lambda x: x/x.sum())\n",
    "    base_final = base_final[base_final['pct']>0.01].copy()\n",
    "\n",
    "\n",
    "\n",
    "    fig = px.histogram(x=base_final['price'],y=base_final['sold_quantity'],color=base_final['category_name'],\n",
    "                       nbins=nbins,barmode=\"overlay\")\n",
    "\n",
    "    fig.layout.update(showlegend=True,\n",
    "                      hovermode=\"closest\",\n",
    "                      hoverlabel=dict(bgcolor=\"white\"),\n",
    "                      legend = {\"title\":{'text':\"Categoría\"}}) \n",
    "\n",
    "    fig.update_traces(hovertemplate ='<b>Rango de precios</b>: '+'%{x}'+'<extra></extra><br><b>Unidades vendidas</b>: '+'%{y}',\n",
    "                      selector=dict(type=\"histogram\"))\n",
    "\n",
    "    \n",
    "    fig.update_xaxes({\"title\": {\"text\": \"Precio\"}},visible=True)\n",
    "    fig.update_yaxes({\"title\": {\"text\": \"Unidades vendidas\"}})\n",
    "    fig.update_layout(title={'text': \"Búsqueda: \"+keywords_input,\n",
    "                            'x':0.5,'xanchor': 'center','yanchor': 'top','font':{'size':16}})\n",
    "    \n",
    "\n",
    "    st.plotly_chart(fig)"
   ]
  },
  {
   "cell_type": "code",
   "execution_count": 91,
   "id": "simple-anthony",
   "metadata": {},
   "outputs": [],
   "source": [
    "def _table(base):\n",
    "    categories = base_final['category_name'].unique()    \n",
    "    lista_precio_promedio= []\n",
    "    for cat in categories:\n",
    "        base_cat = base_final[base_final['category_name']==cat]\n",
    "        precio_promedio = (base_cat['price']*base_cat['sold_quantity']).sum()/base_cat['sold_quantity'].sum()\n",
    "        precio_promedio_currency = locale.currency(precio_promedio, grouping = True ).split(\",\")[0]\n",
    "        ventas=base_cat['sold_quantity'].sum()\n",
    "        publicaciones=base_cat.shape[0]\n",
    "        lista_precio_promedio.append([cat,publicaciones,ventas,precio_promedio_currency])\n",
    "    \n",
    "    lista_final = pd.DataFrame(lista_precio_promedio,columns=['Categoría','Publicaciones analizadas','Ventas analizadas','Precio promedio ponderado'])\n",
    "    st.dataframe(lista_final)"
   ]
  },
  {
   "cell_type": "code",
   "execution_count": 93,
   "id": "wired-equality",
   "metadata": {},
   "outputs": [],
   "source": [
    "if keywords_input!=\"Ingrese una búsqueda\":\n",
    "    _base(keywords_input)\n",
    "    _table(base)\n",
    "    _chart(base)"
   ]
  },
  {
   "cell_type": "code",
   "execution_count": null,
   "id": "three-dispatch",
   "metadata": {},
   "outputs": [],
   "source": [
    "! jupyter nbconvert --to script masterMeli.ipynb"
   ]
  },
  {
   "cell_type": "code",
   "execution_count": null,
   "id": "turned-things",
   "metadata": {},
   "outputs": [],
   "source": []
  }
 ],
 "metadata": {
  "kernelspec": {
   "display_name": "Python 3",
   "language": "python",
   "name": "python3"
  },
  "language_info": {
   "codemirror_mode": {
    "name": "ipython",
    "version": 3
   },
   "file_extension": ".py",
   "mimetype": "text/x-python",
   "name": "python",
   "nbconvert_exporter": "python",
   "pygments_lexer": "ipython3",
   "version": "3.8.8"
  }
 },
 "nbformat": 4,
 "nbformat_minor": 5
}
