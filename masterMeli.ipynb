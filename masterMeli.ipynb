{
 "cells": [
  {
   "cell_type": "code",
   "execution_count": 1,
   "id": "direct-basic",
   "metadata": {},
   "outputs": [],
   "source": [
    "from datetime import datetime\n",
    "import requests\n",
    "import pandas as pd\n",
    "import streamlit as st\n",
    "import plotly.express as px\n"
   ]
  },
  {
   "cell_type": "code",
   "execution_count": 2,
   "id": "derived-digit",
   "metadata": {},
   "outputs": [
    {
     "name": "stderr",
     "output_type": "stream",
     "text": [
      "2021-05-25 19:13:49.462 WARNING root: \n",
      "  \u001b[33m\u001b[1mWarning:\u001b[0m to view this Streamlit app on a browser, run it with the following\n",
      "  command:\n",
      "\n",
      "    streamlit run C:\\Users\\nesma\\anaconda3\\envs\\dhdsblend2021\\lib\\site-packages\\ipykernel_launcher.py [ARGUMENTS]\n"
     ]
    }
   ],
   "source": [
    "st.write(\"\"\"\n",
    "# Titulo de prueba\n",
    "\n",
    "Script de MeLi\n",
    "\"\"\")"
   ]
  },
  {
   "cell_type": "code",
   "execution_count": 3,
   "id": "incorrect-retail",
   "metadata": {},
   "outputs": [],
   "source": [
    "keywords_input = st.text_input(\"Búsqueda\", \"Ingrese una búsqueda\")"
   ]
  },
  {
   "cell_type": "code",
   "execution_count": 4,
   "id": "radical-sculpture",
   "metadata": {},
   "outputs": [],
   "source": [
    "def chart(keywords_input):\n",
    "    keywords_input= keywords_input[0].upper()+keywords_input[1:].lower()\n",
    "    keywords = keywords_input.replace(\" \",\"+\")\n",
    "    url = \"https://api.mercadolibre.com/sites/MLA/search?q=\"+keywords+\"&condition=new&limit=50\"  # Endpoint a consultar\n",
    "    response = requests.get(url)\n",
    "    results=pd.DataFrame(response.json()[\"results\"])\n",
    "\n",
    "    fig = px.histogram(results['price'],histnorm=\"percent\",nbins=10)# y=\"tip\", color=\"sex\", marginal=\"rug\",hover_data=df.columns\n",
    "    fig.layout.update(showlegend=True, \n",
    "                      legend = {\"title\":{'text':\"\"}},\n",
    "                      yaxis =  {\"title\": {\"text\": \"Densidad\"}},\n",
    "                      xaxis =  {\"title\": {\"text\": \"Precio\"}},\n",
    "                      title={'text': keywords_input,\n",
    "                        'x':0.5,\n",
    "                        'xanchor': 'center',\n",
    "                        'yanchor': 'top'}\n",
    "                     ) \n",
    "    st.plotly_chart(fig)"
   ]
  },
  {
   "cell_type": "code",
   "execution_count": 5,
   "id": "finite-investing",
   "metadata": {},
   "outputs": [],
   "source": [
    "if keywords_input!=\"Ingrese una búsqueda\":\n",
    "    chart(keywords_input)"
   ]
  },
  {
   "cell_type": "code",
   "execution_count": null,
   "id": "commercial-skill",
   "metadata": {},
   "outputs": [],
   "source": [
    "! jupyter nbconvert --to script masterMeli.ipynb"
   ]
  },
  {
   "cell_type": "code",
   "execution_count": null,
   "id": "adjusted-huntington",
   "metadata": {},
   "outputs": [],
   "source": []
  }
 ],
 "metadata": {
  "kernelspec": {
   "display_name": "Python 3",
   "language": "python",
   "name": "python3"
  },
  "language_info": {
   "codemirror_mode": {
    "name": "ipython",
    "version": 3
   },
   "file_extension": ".py",
   "mimetype": "text/x-python",
   "name": "python",
   "nbconvert_exporter": "python",
   "pygments_lexer": "ipython3",
   "version": "3.8.8"
  }
 },
 "nbformat": 4,
 "nbformat_minor": 5
}
