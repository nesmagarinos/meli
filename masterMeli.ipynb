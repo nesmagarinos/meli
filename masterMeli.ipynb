{
 "cells": [
  {
   "cell_type": "code",
   "execution_count": 1,
   "id": "statistical-shield",
   "metadata": {},
   "outputs": [],
   "source": [
    "import streamlit as st\n",
    "import requests\n",
    "import pandas as pd\n",
    "import plotly.express as px\n",
    "import unidecode"
   ]
  },
  {
   "cell_type": "code",
   "execution_count": 2,
   "id": "conceptual-andrews",
   "metadata": {},
   "outputs": [
    {
     "name": "stderr",
     "output_type": "stream",
     "text": [
      "2021-05-27 11:20:27.614 WARNING root: \n",
      "  \u001b[33m\u001b[1mWarning:\u001b[0m to view this Streamlit app on a browser, run it with the following\n",
      "  command:\n",
      "\n",
      "    streamlit run C:\\Users\\nesma\\anaconda3\\envs\\dhdsblend2021\\lib\\site-packages\\ipykernel_launcher.py [ARGUMENTS]\n"
     ]
    }
   ],
   "source": [
    "st.markdown(\"![Mercado Libre](https://res.cloudinary.com/crunchbase-production/image/upload/c_lpad,h_170,w_170,f_auto,b_white,q_auto:eco/v1456160088/dauw8qmiutpmqx4wvwlf.png)\")\n",
    "st.write(\"\"\"\n",
    "## Buscador de precios\n",
    "\"\"\")"
   ]
  },
  {
   "cell_type": "code",
   "execution_count": 3,
   "id": "lightweight-bulletin",
   "metadata": {},
   "outputs": [],
   "source": [
    "keywords_input = st.text_input(\"Búsqueda\", \"Ingrese una búsqueda\")"
   ]
  },
  {
   "cell_type": "code",
   "execution_count": 62,
   "id": "varying-daniel",
   "metadata": {},
   "outputs": [],
   "source": [
    "categories_dict_final = pd.read_csv(\"categories.csv\")"
   ]
  },
  {
   "cell_type": "code",
   "execution_count": 63,
   "id": "studied-mileage",
   "metadata": {},
   "outputs": [],
   "source": [
    "def _base(keywords_input):\n",
    "    keywords_input= keywords_input[0].upper()+keywords_input[1:].lower()\n",
    "    keywords = unidecode.unidecode(keywords_input).replace(\" \",\"+\")\n",
    "    url = \"https://api.mercadolibre.com/sites/MLA/search?q=\"+keywords+\"&limit=50&currencies=AR\" \n",
    "    response = requests.get(url)\n",
    "    results_1=pd.DataFrame(response.json()[\"results\"])\n",
    "    \n",
    "    categories = results_1['category_id'].value_counts()[results_1['category_id'].value_counts()>1].index\n",
    "    \n",
    "    base_final = pd.DataFrame()\n",
    "    for cat in categories: \n",
    "#     for cat in [categories[0]]:\n",
    "        try:\n",
    "            url_cat = url+\"&category=\"+cat\n",
    "            response = requests.get(url_cat)\n",
    "            results_cat=pd.DataFrame(response.json()[\"results\"])\n",
    "            results_cat = results_cat[results_cat['sold_quantity']>0]\n",
    "            base_final=base_final.append(results_cat)\n",
    "        except:\n",
    "            pass\n",
    "    \n",
    "    base_final['condition']=base_final['condition'].replace({'new':'Nuevo','used':'Usado'})\n",
    "    base_final.reset_index(drop=True,inplace=True)\n",
    "    base_final=base_final.merge(categories_dict_final,on='category_id',how='left')\n",
    "    base_final=base_final[['id','price','category_name','sold_quantity','condition']]\n",
    "\n",
    "    base_final.dropna(inplace=True)\n",
    "    base_final.drop_duplicates(inplace=True)\n",
    "    base_final['keywords_input']=keywords_input\n",
    "    return base_final"
   ]
  },
  {
   "cell_type": "code",
   "execution_count": 64,
   "id": "personalized-regression",
   "metadata": {},
   "outputs": [],
   "source": [
    "def _chart(base):\n",
    "    base_final = base.copy()\n",
    "    keywords_input = base_final['keywords_input'].unique()[0]\n",
    "    \n",
    "    categories = base_final['category_name'].unique()\n",
    "    ncharts = base_final['category_name'].nunique()\n",
    "    nbins = 20 if ncharts==1 else ncharts*15\n",
    "\n",
    "    base_final['Porcentaje']=base_final.groupby('category_name')['sold_quantity'].apply(lambda x: x/x.sum())\n",
    "    base_final = base_final[base_final['Porcentaje']>0.01].copy()\n",
    "    base_final['Porcentaje']=base_final.groupby('category_name')['sold_quantity'].apply(lambda x: x/x.sum())\n",
    "    base_final['Porcentaje']=(base_final['Porcentaje']*100).astype(int)\n",
    "\n",
    "    fig = px.histogram(x=base_final['price'],y=base_final['Porcentaje'],color=base_final['category_name'],\n",
    "                       nbins=nbins,barmode=\"overlay\")\n",
    "\n",
    "    fig.layout.update(showlegend=True,\n",
    "                      hovermode=\"closest\",\n",
    "                      hoverlabel=dict(bgcolor=\"white\"),\n",
    "                      legend = {\"title\":{'text':\"Categoría\"}}) \n",
    "\n",
    "    fig.update_traces(hovertemplate ='<b>Rango de precios</b>: '+'%{x}'+'<extra></extra><br><b>Porcentaje de unidades vendidas</b>: '+'%{y}'+\"%\",\n",
    "                      selector=dict(type=\"histogram\"))\n",
    "\n",
    "    \n",
    "    fig.update_xaxes({\"title\": {\"text\": \"Precio\"}},visible=True)\n",
    "    fig.update_yaxes({\"title\": {\"text\": \"Porcentaje de unidades vendidas\"}})\n",
    "    fig.update_layout(title={'text': \"Búsqueda: \"+keywords_input,\n",
    "                            'x':0.5,'xanchor': 'center','yanchor': 'top','font':{'size':16}})\n",
    "    \n",
    "    \n",
    "\n",
    "    st.plotly_chart(fig)\n",
    "    fig.show()"
   ]
  },
  {
   "cell_type": "code",
   "execution_count": 65,
   "id": "informed-guyana",
   "metadata": {},
   "outputs": [],
   "source": [
    "def _table(base_final):\n",
    "    categories = base_final['category_name'].unique()    \n",
    "    lista_precio_promedio= []\n",
    "    for cat in categories:\n",
    "        base_cat = base_final[base_final['category_name']==cat]\n",
    "        precio_promedio = (base_cat['price']*base_cat['sold_quantity']).sum()/base_cat['sold_quantity'].sum()\n",
    "        precio_promedio_currency = \"${:,.2f}\". format(precio_promedio).split(\".\")[0].replace(\",\",\".\")\n",
    "        ventas=base_cat['sold_quantity'].sum()\n",
    "        publicaciones=base_cat.shape[0]\n",
    "        lista_precio_promedio.append([cat,publicaciones,ventas,precio_promedio_currency])\n",
    "    \n",
    "    lista_final = pd.DataFrame(lista_precio_promedio,columns=['Categoría','Publicaciones','Ventas','Precio promedio ponderado'])\n",
    "    st.text('Publicaciones analizadas:')\n",
    "    st.dataframe(lista_final)"
   ]
  },
  {
   "cell_type": "code",
   "execution_count": 93,
   "id": "heavy-upset",
   "metadata": {},
   "outputs": [],
   "source": [
    "if keywords_input!=\"Ingrese una búsqueda\":\n",
    "    base = _base(keywords_input)\n",
    "    _chart(base)\n",
    "    _table(base)\n",
    "else:\n",
    "    base = _base(\"Televisor 50 pulgadas\")\n",
    "    _chart(base)\n",
    "    _table(base)    "
   ]
  },
  {
   "cell_type": "code",
   "execution_count": 69,
   "id": "altered-rates",
   "metadata": {},
   "outputs": [
    {
     "name": "stderr",
     "output_type": "stream",
     "text": [
      "[NbConvertApp] Converting notebook masterMeli.ipynb to script\n",
      "[NbConvertApp] Writing 4409 bytes to masterMeli.py\n"
     ]
    }
   ],
   "source": [
    "! jupyter nbconvert --to script masterMeli.ipynb"
   ]
  },
  {
   "cell_type": "code",
   "execution_count": null,
   "id": "logical-radio",
   "metadata": {},
   "outputs": [],
   "source": []
  }
 ],
 "metadata": {
  "kernelspec": {
   "display_name": "Python 3",
   "language": "python",
   "name": "python3"
  },
  "language_info": {
   "codemirror_mode": {
    "name": "ipython",
    "version": 3
   },
   "file_extension": ".py",
   "mimetype": "text/x-python",
   "name": "python",
   "nbconvert_exporter": "python",
   "pygments_lexer": "ipython3",
   "version": "3.8.8"
  }
 },
 "nbformat": 4,
 "nbformat_minor": 5
}
