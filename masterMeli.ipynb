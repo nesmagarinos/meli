{
 "cells": [
  {
   "cell_type": "code",
   "execution_count": 74,
   "id": "a46b4298-d3ff-4b9f-940e-68f080e3944e",
   "metadata": {},
   "outputs": [],
   "source": [
    "from datetime import datetime\n",
    "import requests\n",
    "import json\n",
    "import pandas as pd\n",
    "import seaborn as sns"
   ]
  },
  {
   "cell_type": "code",
   "execution_count": 75,
   "id": "1e87f67e-2767-4f25-8d49-95c007c029d7",
   "metadata": {},
   "outputs": [],
   "source": [
    "url = \"https://api.mercadolibre.com/sites/MLA/search?q=nintendo+switch&condition=new&limit=50\"  # Endpoint a consultar\n",
    "response = requests.get(url)"
   ]
  },
  {
   "cell_type": "code",
   "execution_count": 76,
   "id": "f12c79d9-187b-4b97-960d-a92f44aaf1ff",
   "metadata": {},
   "outputs": [],
   "source": [
    "data = json.loads(response.text)\n",
    "results=pd.DataFrame(data[\"results\"])"
   ]
  },
  {
   "cell_type": "code",
   "execution_count": 77,
   "id": "5412954b-7f7d-4259-970b-78de925760df",
   "metadata": {},
   "outputs": [
    {
     "data": {
      "image/png": "[encoded data removed]",
      "text/plain": [
       "<Figure size 432x288 with 1 Axes>"
      ]
     },
     "metadata": {
      "needs_background": "light"
     },
     "output_type": "display_data"
    }
   ],
   "source": [
    "chart = sns.histplot(results['price'])"
   ]
  },
  {
   "cell_type": "code",
   "execution_count": 78,
   "id": "dd1030b0-7c07-4ff5-9838-d79f036ce52a",
   "metadata": {},
   "outputs": [
    {
     "name": "stderr",
     "output_type": "stream",
     "text": [
      "[NbConvertApp] Converting notebook masterMeli.ipynb to script\n",
      "[NbConvertApp] Writing 544 bytes to masterMeli.py\n"
     ]
    }
   ],
   "source": [
    "! jupyter nbconvert --to script masterMeli.ipynb"
   ]
  },
  {
   "cell_type": "code",
   "execution_count": null,
   "id": "6d1ba13e-b300-41ee-8a67-d08849993d42",
   "metadata": {},
   "outputs": [],
   "source": []
  }
 ],
 "metadata": {
  "kernelspec": {
   "display_name": "Python 3",
   "language": "python",
   "name": "python3"
  },
  "language_info": {
   "codemirror_mode": {
    "name": "ipython",
    "version": 3
   },
   "file_extension": ".py",
   "mimetype": "text/x-python",
   "name": "python",
   "nbconvert_exporter": "python",
   "pygments_lexer": "ipython3",
   "version": "3.7.10"
  }
 },
 "nbformat": 4,
 "nbformat_minor": 5
}
